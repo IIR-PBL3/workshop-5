{
 "cells": [
  {
   "cell_type": "markdown",
   "metadata": {},
   "source": [
    "# PBL 3 - Warsztat 5 Standardy łączności bezprzewodowej"
   ]
  },
  {
   "cell_type": "markdown",
   "metadata": {},
   "source": [
    "Zespół:\n",
    "* Name 1\n",
    "* Name 2\n",
    "* Name 3"
   ]
  },
  {
   "cell_type": "markdown",
   "metadata": {},
   "source": [
    "## Ćwiczenie 1 - Transmisja w sieci Wi-Fi\n",
    "\n",
    "W ramach ćwiczenia zostanie przeprowadzona obserwacja sygnału Wi-Fi w dziedzinie czasu i częstotliwości. Ćwiczenie będzie wymagało wygenerowania sygnałów testowych (wysyłania pakietów Wi-Fi do serwera). Do odbioru sygnału zostanie wykorzystany moduł SDR ADALM-PLUTO."
   ]
  },
  {
   "cell_type": "code",
   "execution_count": null,
   "metadata": {},
   "outputs": [],
   "source": [
    "import socket"
   ]
  },
  {
   "cell_type": "markdown",
   "metadata": {},
   "source": [
    "### Zad 1. Konfiguracja sieci Wi-Fi"
   ]
  },
  {
   "cell_type": "markdown",
   "metadata": {},
   "source": [
    "a) Skonfigurować router WRT1900AC aby pracował w wybranym kanale z pasma 2.4 GHz i w standardzie 802.11g. Szerokość kanału ustawić na 20 MHz. Zapisać zrzut ekranu z ustawionymi parametrami."
   ]
  },
  {
   "cell_type": "markdown",
   "metadata": {},
   "source": [
    "<figure>\n",
    "<img src=\"img/placeholder.png\" alt=\"adalm\" style=\"width:10%\">\n",
    "<figcaption align = \"center\"><i>Rys.X </i></figcaption>\n",
    "</figure>\n",
    "\n",
    "..."
   ]
  },
  {
   "cell_type": "markdown",
   "metadata": {},
   "source": [
    "b) Podłączyć komputer (kablem) i RPi (bezprzewodowo) do sieci. Zweryfikować poprawność połączenia. Zapisać adresy urządzeń."
   ]
  },
  {
   "cell_type": "markdown",
   "metadata": {},
   "source": [
    "| urządzenie | adres IP |\n",
    "| --- | --- | \n",
    "| PC | |\n",
    "| RPi | |"
   ]
  },
  {
   "cell_type": "markdown",
   "metadata": {},
   "source": [
    "### Zad. 2. Implementacja transmisji UDP"
   ]
  },
  {
   "cell_type": "markdown",
   "metadata": {},
   "source": [
    "a) Zaimplementować w języku Python serwer i klienta UDP wykorzystując pakiet `socket`. Uruchomić serwer na PC a klienta na RPi.\n",
    "Klient powinien wysyłać wiadomości do serwera ze stałym okresem."
   ]
  },
  {
   "cell_type": "markdown",
   "metadata": {},
   "source": [
    "#### Serwer"
   ]
  },
  {
   "cell_type": "code",
   "execution_count": null,
   "metadata": {},
   "outputs": [],
   "source": [
    "#-- Your code here --#\n",
    "\n",
    "#--------------------#"
   ]
  },
  {
   "cell_type": "markdown",
   "metadata": {},
   "source": [
    "#### Klient"
   ]
  },
  {
   "cell_type": "code",
   "execution_count": null,
   "metadata": {},
   "outputs": [],
   "source": [
    "#-- Your code here --#\n",
    "\n",
    "#--------------------#"
   ]
  },
  {
   "cell_type": "markdown",
   "metadata": {},
   "source": [
    "b) Przetestować transmisję"
   ]
  },
  {
   "cell_type": "markdown",
   "metadata": {},
   "source": [
    "<figure>\n",
    "<img src=\"img/placeholder.png\" alt=\"adalm\" style=\"width:10%\">\n",
    "<figcaption align = \"center\"><i>Rys.X </i></figcaption>\n",
    "</figure>\n",
    "\n",
    "..."
   ]
  },
  {
   "cell_type": "markdown",
   "metadata": {},
   "source": [
    "### Zad. 2. - Analiza sygnałów w sieci Wi-Fi"
   ]
  },
  {
   "cell_type": "markdown",
   "metadata": {},
   "source": [
    "Do obserwacji sygnałów Wi-Fi przesyłanych w łączu radiowym należy wykorzystać model Simulink `spectrum_analysis.slx`.\n",
    "\n",
    "Dokładność obserwacji można zwiększyć poprzez zmianę kilku parametrów układu radiowego ADALM-Pluto. Zmiany łatwo dokonać w aplikacji IIO Oscilloscope. W przypadku obserwacji sygnałów Wi-Fi warto:\n",
    "- wyłączyć automatyczną regulację wzmocnienia\n",
    "- wykorzystać programowalny filtr o szerokości kanału 20 MHz w celu redukcji szumów\n",
    "\n",
    "Widgety pozwalajace na zmianę tych parametrów są oznaczone na poniższym rysunku.\n",
    "\n",
    "<figure>\n",
    "<img src=\"img/ad936x_params.jpg\" alt=\"adalm\" style=\"width:50%\">\n",
    "<figcaption align = \"center\"><i></i></figcaption>\n",
    "</figure>"
   ]
  },
  {
   "cell_type": "markdown",
   "metadata": {},
   "source": [
    "a) Zaobserwować widmo sygnału. Za pomocą markerów zmierzyć szerokość pasma sygnału nadawanego w kanale Wi-Fi."
   ]
  },
  {
   "cell_type": "markdown",
   "metadata": {},
   "source": [
    "<figure>\n",
    "<img src=\"img/placeholder.png\" alt=\"adalm\" style=\"width:10%\">\n",
    "<figcaption align = \"center\"><i>Rys.X </i></figcaption>\n",
    "</figure>\n",
    "\n",
    "..."
   ]
  },
  {
   "cell_type": "markdown",
   "metadata": {},
   "source": [
    "b) Zaobserwować postać czasową rejestrowanych sygnałów. Na podstawie okresowości pakietów nadawanych przez RPi zidentyfikować nadawane pakiety. Zaobserwować ich postać i na podstawie markerów zmierzyć czas ich trwania."
   ]
  },
  {
   "cell_type": "markdown",
   "metadata": {},
   "source": [
    "<figure>\n",
    "<img src=\"img/placeholder.png\" alt=\"adalm\" style=\"width:10%\">\n",
    "<figcaption align = \"center\"><i>Rys.X </i></figcaption>\n",
    "</figure>\n",
    "\n",
    "..."
   ]
  },
  {
   "cell_type": "markdown",
   "metadata": {},
   "source": [
    "c) Zmieniając ilość przesyłanych danych sprawdzić jak zmienia się długość pakietu Wi-Fi. Ocenić jaki narzut stanowi preambuła oraz nagłówki."
   ]
  },
  {
   "cell_type": "markdown",
   "metadata": {},
   "source": [
    "<figure>\n",
    "<img src=\"img/placeholder.png\" alt=\"adalm\" style=\"width:10%\">\n",
    "<figcaption align = \"center\"><i>Rys.X </i></figcaption>\n",
    "</figure>\n",
    "\n",
    "..."
   ]
  },
  {
   "cell_type": "code",
   "execution_count": null,
   "metadata": {},
   "outputs": [],
   "source": [
    "#-- Your code here --#\n",
    "\n",
    "#--------------------#"
   ]
  },
  {
   "cell_type": "markdown",
   "metadata": {},
   "source": [
    "| rozmiar przesyłanych danych (B) | czas trwania pakietu |\n",
    "| --- | --- | \n",
    "|  - | -|\n",
    "|  - | -|\n",
    "| -  | -|"
   ]
  },
  {
   "cell_type": "markdown",
   "metadata": {},
   "source": [
    "### Zad. 3. - Porównanie widma sygnałów w standardach 802.11g i 802.11n"
   ]
  },
  {
   "cell_type": "markdown",
   "metadata": {},
   "source": [
    "Zmienić konfigurację routera by sieć pracowała zgodnie ze standardach 802.11n i 802.11b."
   ]
  },
  {
   "cell_type": "markdown",
   "metadata": {},
   "source": [
    "a) Zaobserwować widma sygnałów i porównać z widmem w standardzie 802.11g."
   ]
  },
  {
   "cell_type": "markdown",
   "metadata": {},
   "source": [
    "<figure>\n",
    "<img src=\"img/placeholder.png\" alt=\"adalm\" style=\"width:10%\">\n",
    "<figcaption align = \"center\"><i></i></figcaption>\n",
    "</figure>\n",
    "\n",
    "..."
   ]
  }
 ],
 "metadata": {
  "kernelspec": {
   "display_name": "Python 3",
   "language": "python",
   "name": "python3"
  },
  "language_info": {
   "codemirror_mode": {
    "name": "ipython",
    "version": 3
   },
   "file_extension": ".py",
   "mimetype": "text/x-python",
   "name": "python",
   "nbconvert_exporter": "python",
   "pygments_lexer": "ipython3",
   "version": "3.7.1"
  }
 },
 "nbformat": 4,
 "nbformat_minor": 4
}
