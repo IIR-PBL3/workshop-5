{
 "cells": [
  {
   "cell_type": "markdown",
   "metadata": {},
   "source": [
    "# PBL 3 - Warsztat 5 Standardy łączności bezprzewodowej"
   ]
  },
  {
   "cell_type": "markdown",
   "metadata": {},
   "source": [
    "Zespół:\n",
    "* Name 1\n",
    "* Name 2\n",
    "* Name 3"
   ]
  },
  {
   "cell_type": "markdown",
   "metadata": {},
   "source": [
    "## Ćwiczenie 1 - Transmisja w sieci Wi-Fi\n",
    "\n",
    "W ramach ćwiczenia zostanie przeprowadzona obserwacja sygnału Wi-Fi w dziedzinie czasu i częstotliwości. Ćwiczenie będzie wymagało wygenerowania sygnałów testowych (wysyłania pakietów Wi-Fi do serwera). Do odbioru sygnału zostanie wykorzystany moduł SDR ADALM-PLUTO."
   ]
  },
  {
   "cell_type": "code",
   "execution_count": 8,
   "metadata": {},
   "outputs": [],
   "source": [
    "import socket"
   ]
  },
  {
   "cell_type": "markdown",
   "metadata": {},
   "source": [
    "### Zad 1. Konfiguracja sieci Wi-Fi"
   ]
  },
  {
   "cell_type": "markdown",
   "metadata": {},
   "source": [
    "a) Skonfigurować router WRT1900AC aby pracował w wybranym kanale z pasma 2.4 GHz i w standardzie 802.11g. Zapisać zrzut ekranu z ustawionymi parametrami. (Wybór kanału odbędzie się w porozumieniu z prowadzącym, po analizie zajętości kanałów w paśmie ISM2.4GHz)"
   ]
  },
  {
   "cell_type": "markdown",
   "metadata": {},
   "source": [
    "<figure>\n",
    "<img src=\"img/placeholder.png\" alt=\"adalm\" style=\"width:10%\">\n",
    "<figcaption align = \"center\"><i>Rys.1 XXX</i></figcaption>\n",
    "</figure>\n",
    "\n",
    "..."
   ]
  },
  {
   "cell_type": "markdown",
   "metadata": {},
   "source": [
    "b) Podłączyć komputer (kablem) i RPi (bezprzewodowo) do sieci. Zweryfikować poprawność połączenia. Zapisać adresy urządzeń."
   ]
  },
  {
   "cell_type": "markdown",
   "metadata": {},
   "source": [
    "| urządzenie | adres IP |\n",
    "| --- | --- | \n",
    "| PC | |\n",
    "| RPi | |"
   ]
  },
  {
   "cell_type": "markdown",
   "metadata": {},
   "source": [
    "### Zad. 2. Implementacja transmisji UDP"
   ]
  },
  {
   "cell_type": "markdown",
   "metadata": {
    "tags": []
   },
   "source": [
    "a) Zaimplementować w języku Python serwer i klienta UDP wykorzystując pakiet `socket`. Uruchomić serwer na PC a klienta na RPi.\n",
    "\n",
    "Klient powinien wysyłać wiadomości do serwera ze stałym okresem (wynoszącym 100+(n-1)*10 ms, gdzie n to numer stanowiska). Treść wiadomości powinna być następująca: \"PCn WiFi Test Message X\", gdzie \"n\" to numer stanowiska, a X to inkrementowany numer sekwencyjny (zaczynając od 0).\n",
    "\n",
    "Serwer powinien logować do pliku (oraz wypisywać w konsoli) następujące wartości:\n",
    "- czas przybycia pakietu,\n",
    "- czas jaki upłynął od odbioru poprzedniego pakietu,\n",
    "- treść pakietu."
   ]
  },
  {
   "cell_type": "markdown",
   "metadata": {},
   "source": [
    "#### Serwer"
   ]
  },
  {
   "cell_type": "code",
   "execution_count": 9,
   "metadata": {},
   "outputs": [],
   "source": [
    "#-- Your code here --#\n",
    "\n",
    "#--------------------#"
   ]
  },
  {
   "cell_type": "markdown",
   "metadata": {},
   "source": [
    "#### Klient"
   ]
  },
  {
   "cell_type": "code",
   "execution_count": 10,
   "metadata": {},
   "outputs": [],
   "source": [
    "#-- Your code here --#\n",
    "\n",
    "#--------------------#"
   ]
  },
  {
   "cell_type": "markdown",
   "metadata": {},
   "source": [
    "b) Przetestować transmisję"
   ]
  },
  {
   "cell_type": "markdown",
   "metadata": {},
   "source": [
    "<figure>\n",
    "<img src=\"img/placeholder.png\" alt=\"adalm\" style=\"width:10%\">\n",
    "<figcaption align = \"center\"><i>Rys.2 XXX</i></figcaption>\n",
    "</figure>\n",
    "\n",
    "..."
   ]
  },
  {
   "cell_type": "markdown",
   "metadata": {},
   "source": [
    "#### Przykładowy zrzut z konsoli"
   ]
  },
  {
   "cell_type": "code",
   "execution_count": 11,
   "metadata": {},
   "outputs": [],
   "source": [
    "#-- Exemplary console dump --#\n",
    "\n",
    "#--------------------#"
   ]
  },
  {
   "cell_type": "markdown",
   "metadata": {},
   "source": [
    "### Zad. 3. - Analiza sygnałów w sieci Wi-Fi"
   ]
  },
  {
   "cell_type": "markdown",
   "metadata": {},
   "source": [
    "W tym punkcie zostanie przeprowadzona analiza sygnałów sieci Wi-Fi w dziedzinie czasu i częstotliwości. Analizę należy przeprowadzić wykorzystujac odpowiednio modele `timeAnalysis.slx` oraz `spectrumAnalysis.slx`. Powyższe modele działają w trybie post-processingu - wczytują uprzednio zarejestrowany plik zawierający próbki sygnału w paśmie podstawowym.\n",
    "\n",
    "Rejestrację sygnału należy przeprowadzić za pomocą modelu `wifiWriter.slx`. Czas trwania symulacji (Stop Time) a co za tym idzie rejestracji sygnału powinien być stosunkowo krótki. Próbki zbierane przez moduł podczas 1 sekundy zajmują około 500 MB.\n",
    "\n",
    "Przeprowadzić kilka iteracji zbierania i obserwacji sygnałów:\n",
    "- przy wyłączonej i włączonej aplikacji klienta w RPI4,\n",
    "- dla różnych okresów transmisji pakietów przez aplikację klienta (od pojedynczych milisekund do sekund),\n",
    "- przy wyłączonym i włączonym punkcie dostępowym."
   ]
  },
  {
   "cell_type": "markdown",
   "metadata": {},
   "source": [
    "a) Zaobserwować przykładowe widmo sygnału. Za pomocą markerów zmierzyć szerokość pasma sygnału nadawanego w kanale Wi-Fi."
   ]
  },
  {
   "cell_type": "markdown",
   "metadata": {},
   "source": [
    "<figure>\n",
    "<img src=\"img/placeholder.png\" alt=\"adalm\" style=\"width:10%\">\n",
    "<figcaption align = \"center\"><i>Rys.3 XXX</i></figcaption>\n",
    "</figure>\n",
    "\n",
    "..."
   ]
  },
  {
   "cell_type": "markdown",
   "metadata": {},
   "source": [
    "b) Zaobserwować postać czasową rejestrowanych sygnałów. Na podstawie okresowości pakietów nadawanych przez RPi zidentyfikować nadawane pakiety. Zaobserwować ich postać i na podstawie markerów zmierzyć czas ich trwania."
   ]
  },
  {
   "cell_type": "markdown",
   "metadata": {},
   "source": [
    "<figure>\n",
    "<img src=\"img/placeholder.png\" alt=\"adalm\" style=\"width:10%\">\n",
    "<figcaption align = \"center\"><i>Rys.4 XXX</i></figcaption>\n",
    "</figure>\n",
    "\n",
    "..."
   ]
  },
  {
   "cell_type": "markdown",
   "metadata": {},
   "source": [
    "c) Zmieniając ilość przesyłanych danych sprawdzić jak zmienia się długość pakietu Wi-Fi (od pojedynczych bajtów do setek bajtów). Spróbować ocenić jaki narzut stanowi preambuła oraz nagłówki."
   ]
  },
  {
   "cell_type": "code",
   "execution_count": 1,
   "metadata": {},
   "outputs": [],
   "source": [
    "#-- Your code here --#\n",
    "\n",
    "#--------------------#"
   ]
  },
  {
   "cell_type": "markdown",
   "metadata": {},
   "source": [
    "| rozmiar przesyłanych danych (B) | czas trwania pakietu |\n",
    "| --- | --- | \n",
    "|  - | -|\n",
    "|  - | -|\n",
    "| -  | -|"
   ]
  },
  {
   "cell_type": "markdown",
   "metadata": {},
   "source": [
    "### Zad. 4. Obserwacja sygnałów WiFi z wykorzystaniem analizatora widma"
   ]
  },
  {
   "cell_type": "markdown",
   "metadata": {
    "tags": []
   },
   "source": [
    "Zadanie jest realizowane w grupach 6 osobowych (utworzonych z zespołów 3 osobowych z sąsiadujących stołów)."
   ]
  },
  {
   "cell_type": "markdown",
   "metadata": {},
   "source": [
    "a) Należy wyłączyć aplikacje klienta UDP działajace na RPI4.\n",
    "\n",
    "Następnie zaobserwować w dziedzinie częstotliwości transmisję WiFi w pasmach przydzielonych obu zespołom tworzącym grupę 6 osobową. Wykorzystać funkcję MAX HOLD."
   ]
  },
  {
   "cell_type": "markdown",
   "metadata": {},
   "source": [
    "<figure>\n",
    "<img src=\"img/placeholder.png\" alt=\"adalm\" style=\"width:10%\">\n",
    "<figcaption align = \"center\"><i>Rys.5 XXX</i></figcaption>\n",
    "</figure>\n",
    "\n",
    "..."
   ]
  },
  {
   "cell_type": "markdown",
   "metadata": {},
   "source": [
    "b) Przełączyć się na obserwacje w dziedzinie czasu:\n",
    "- ustawienie SPAN,\n",
    "- odpowiedni dobór RBW,\n",
    "- wykorzystanie funkcji wyzwalania (Trigger -> Video),\n",
    "- ustawienie progu wyzwalania (Video Level),\n",
    "- obserwacja transmisji w trakcie jednej sekundy (odpowiedni dobór Sweep Time)"
   ]
  },
  {
   "cell_type": "markdown",
   "metadata": {},
   "source": [
    "<figure>\n",
    "<img src=\"img/placeholder.png\" alt=\"adalm\" style=\"width:10%\">\n",
    "<figcaption align = \"center\"><i>Rys.6 XXX</i></figcaption>\n",
    "</figure>\n",
    "\n",
    "..."
   ]
  },
  {
   "cell_type": "markdown",
   "metadata": {},
   "source": [
    "c) W zaawansowanych ustawieniach routera (http://\"ADRES ROUTERA\"/1.0.99.160582/dynamic/advanced-wireless.html) zmienić okres nadawania tzw. Beacona (200 + n*10 ms, gdzie n to numer zespołu). Zaobserwować zmiany w przebiegu czasowym. Powtórzyć dla wartości n drugiego zespołu tworzącego grupę."
   ]
  },
  {
   "cell_type": "markdown",
   "metadata": {},
   "source": [
    "<figure>\n",
    "<img src=\"img/placeholder.png\" alt=\"adalm\" style=\"width:10%\">\n",
    "<figcaption align = \"center\"><i>Rys.7 XXX</i></figcaption>\n",
    "</figure>\n",
    "\n",
    "..."
   ]
  },
  {
   "cell_type": "markdown",
   "metadata": {},
   "source": [
    "d) Uruchomić transmisję pakietów przez aplikację klienta i powtórzyć obserwacje sygnału w dziedzinie czasu (dla obu zespołów)."
   ]
  },
  {
   "cell_type": "markdown",
   "metadata": {},
   "source": [
    "<figure>\n",
    "<img src=\"img/placeholder.png\" alt=\"adalm\" style=\"width:10%\">\n",
    "<figcaption align = \"center\"><i>Rys.8 XXX</i></figcaption>\n",
    "</figure>\n",
    "\n",
    "..."
   ]
  }
 ],
 "metadata": {
  "kernelspec": {
   "display_name": "Python 3",
   "language": "python",
   "name": "python3"
  },
  "language_info": {
   "codemirror_mode": {
    "name": "ipython",
    "version": 3
   },
   "file_extension": ".py",
   "mimetype": "text/x-python",
   "name": "python",
   "nbconvert_exporter": "python",
   "pygments_lexer": "ipython3",
   "version": "3.7.1"
  }
 },
 "nbformat": 4,
 "nbformat_minor": 4
}
