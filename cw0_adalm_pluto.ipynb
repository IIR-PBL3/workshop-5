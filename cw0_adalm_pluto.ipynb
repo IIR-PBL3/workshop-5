{
 "cells": [
  {
   "cell_type": "markdown",
   "metadata": {},
   "source": [
    "# PBL 3 - Warsztat 5 Standardy łączności bezprzewodowej"
   ]
  },
  {
   "cell_type": "markdown",
   "metadata": {},
   "source": [
    "Zespół:\n",
    "* Name 1\n",
    "* Name 2\n",
    "* Name 3"
   ]
  },
  {
   "cell_type": "markdown",
   "metadata": {},
   "source": [
    "## Ćwiczenie 0 - Podstawowa obsługa modułu ADALM-PLUTO"
   ]
  },
  {
   "cell_type": "markdown",
   "metadata": {},
   "source": [
    "W trakcie ćwiczenia wykorzystywany będzie moduł radia progamowalnego SDR (Software Defined Radio) ADALM-PLUTO.\n",
    "\n",
    "<figure>\n",
    "<img src=\"img/adalm_pluto.png\" alt=\"adalm\" style=\"width:30%\" align=\"center\">\n",
    "<figcaption align = \"center\"><i>Rys.1 Moduł ADALM-PLUTO [1]</i></figcaption>\n",
    "</figure>\n",
    "\n",
    "\n",
    "Moduł zawiera programowalny nadajnik i odbiornik. W podstawowej wersji pozwala na pracę w zakresie 325 – 3800 MHz przy maksymalnej szerokości pasma równej 20 MHz. Po zmianie konfiguracji można rozszerzyć zakres częstotliwości do 70 – 6000 MHz i zwiększyć szerokość pasma obserwowanych sygnałów do 56 MHz. Maksymalna częstotliwość próbkowania sygnału to 61.44 MHz.\n",
    "\n",
    "Moduł współpracuje z kilkoma róznymi aplikacjami. W ramach ćwiczenia zostaną wykorzystane trzy programy:\n",
    "- IIO Oscilloscope - aplikacja dostarczana przez producenta (Analog Devices) pozwalająca na szczegółową konfigurację modułu i obserwację odbieranych sygnałów,\n",
    "- SATSAGEN - analizator widma, wykorzystujący ADALM-PLUTO jako źródło sygnału,\n",
    "- Matlab Simulink - Środowisko programistyczne pozwalające na bardziej skomplikowane przetwarzanie danych z modułu ADALM-PLUTO"
   ]
  },
  {
   "cell_type": "markdown",
   "metadata": {},
   "source": [
    "#### IIO Oscilloscope"
   ]
  },
  {
   "cell_type": "markdown",
   "metadata": {},
   "source": [
    "Aplikacja IIO Oscilloscope [2] jest podstawową aplikacją dostarczaną przez producenta modułu ADALM-PLUTO. Pozwala ona na obserwację odbieranego sygnału w dziedzinie czasu i częstotliwości oraz wykresu konstelacji. Umożliwia również dokładniejszą konfigurację modułu."
   ]
  },
  {
   "cell_type": "markdown",
   "metadata": {},
   "source": [
    "<figure>\n",
    "<img src=\"img/iio_osc_example.jpg\" alt=\"adalm\" style=\"width:70%\">\n",
    "<figcaption align = \"center\"><i>Rys.2 Obserwacja widma sygnałów TV cyfrowej za pomocą aplikacji SATSAGEN</i></figcaption>\n",
    "</figure>"
   ]
  },
  {
   "cell_type": "markdown",
   "metadata": {},
   "source": [
    "W trakcie warsztatu, aplikacja zostanie użyta do konfiguracji parametrów przyrządu."
   ]
  },
  {
   "cell_type": "markdown",
   "metadata": {},
   "source": [
    "#### SATSAGEN"
   ]
  },
  {
   "cell_type": "markdown",
   "metadata": {},
   "source": [
    "Aplikacja SATSAGEN [3] pozwala na wykorzystanie modułu ADALM-PLUTO jako prosty analizator widma oraz generator. Aplikacja poprzez zmiany częstotliwości, na której pracuje moduł pozwala na estymację widma sygnału w szerszym zakresie sygnału niż szerokość kanału przyrządu.\n",
    "\n",
    "W trakcie warsztatu, aplikacja będzie wykorzystywana do obserwacji widma w zakresie szerszym niż 56 MHz."
   ]
  },
  {
   "cell_type": "markdown",
   "metadata": {},
   "source": [
    "<figure>\n",
    "<img src=\"img/satsagen_mux.jpg\" alt=\"adalm\" style=\"width:50%\">\n",
    "<figcaption align = \"center\"><i>Rys.3 Obserwacja widma sygnałów TV cyfrowej za pomocą aplikacji SATSAGEN</i></figcaption>\n",
    "</figure>"
   ]
  },
  {
   "cell_type": "markdown",
   "metadata": {},
   "source": [
    "#### Matlab/Simulink"
   ]
  },
  {
   "cell_type": "markdown",
   "metadata": {},
   "source": [
    "Simulink [4] jest opartym na Matlab-ie środowiskiem służącym do przeprowadzania symulacji. Simulink pozwala na szybkie tworzenie modeli symulacyjnych składających się z bloków. Znajduje on wiele zastosowań od symulowania prostych systemów i układów po modelowanie złożonych systemów radiokomunikacyjnych."
   ]
  },
  {
   "cell_type": "markdown",
   "metadata": {},
   "source": [
    "<figure>\n",
    "<img src=\"img/simulink_example.jpg\" alt=\"adalm\" style=\"width:60%\">\n",
    "<figcaption align = \"center\"><i>Rys.4 Przykładowy model w Simulink</i></figcaption>\n",
    "</figure>"
   ]
  },
  {
   "cell_type": "markdown",
   "metadata": {},
   "source": [
    "W trakcie ćwiczenia, Simulink zostanie wykorzystany do przetwarzania sygnałów odebranych za pomocą ADALM-PLUTO.\n",
    "\n",
    "Przykłady omawiane podczas warsztatu wykorzystują dodatkowe pakiety:\n",
    " - Communications Toolbox - radiow część systemów,\n",
    " - Signal Processing Toolbox - przetwarzanie sygnałów,\n",
    " - DSP System Toolbox - przetwarzanie sygnałów cyfrowych.\n",
    " - Communications Toolbox Support Package for Analog Devices ADALM-Pluto Radio - połączenie z ADALM-PLUTO.\n",
    "\n",
    "W celu szybkiego zapoznania się z pakietem Simulink polecamy realizację szybkiego kursu Simulink Onramp [5] dostępnego w internecie lub z poziomu Matlaba."
   ]
  },
  {
   "cell_type": "markdown",
   "metadata": {},
   "source": [
    "### Zad. 1. - Obserwacja widma sygnału w zakresie UKF"
   ]
  },
  {
   "cell_type": "markdown",
   "metadata": {},
   "source": [
    "Wykorzystać aplikację SATSAGEN do obserwacji widma sygnałów w paśmie UKF (87.5 - 108 MHz), w którym nadają stacje radiowe. Ustawić częstotliwość środkową `Frequency kHz` na środek pasma. Dobrać wartość parametru `SPAN` tak aby zaobserwować na ekranie całe pasmo UKF. Zapisać zrzut ekranu widma (`Right Click on Image->Save Image`) i skomentować zarejestrowane widmo."
   ]
  },
  {
   "cell_type": "markdown",
   "metadata": {},
   "source": [
    "<figure>\n",
    "<img src=\"img/placeholder.png\" alt=\"adalm\" style=\"width:10%\">\n",
    "<figcaption align = \"center\"><i>Rys.X </i></figcaption>\n",
    "</figure>\n",
    "\n",
    "..."
   ]
  },
  {
   "cell_type": "markdown",
   "metadata": {},
   "source": [
    "### Zad. 2. - Wykorzystanie ADALM-PLUTO do demodulacji sygnału FM"
   ]
  },
  {
   "cell_type": "markdown",
   "metadata": {},
   "source": [
    "a) Otworzyć przykład `fm_broadcast_receiver.slx` oraz uruchomić aplikację IIO Oscilloscope. Przeanalizować schemat odbiornika i uruchomić symulację."
   ]
  },
  {
   "cell_type": "markdown",
   "metadata": {},
   "source": [
    "<figure>\n",
    "<img src=\"img/simulink_described.jpg\" alt=\"adalm\" style=\"width:80%\">\n",
    "<figcaption align = \"center\"><i>Rys.5 Schemat odbiornika FM w Simulink </i></figcaption>\n",
    "</figure>"
   ]
  },
  {
   "cell_type": "markdown",
   "metadata": {},
   "source": [
    "b) Zarejestrować widmo sygnału w paśmie podstawowym (`Scope -> Print to Figure ... Figure -> Save`. Co ono przedstawia? Krótko skomentować."
   ]
  },
  {
   "cell_type": "markdown",
   "metadata": {},
   "source": [
    "<figure>\n",
    "<img src=\"img/placeholder.png\" alt=\"adalm\" style=\"width:10%\">\n",
    "<figcaption align = \"center\"><i>Rys.X </i></figcaption>\n",
    "</figure>\n",
    "\n",
    "..."
   ]
  },
  {
   "cell_type": "markdown",
   "metadata": {},
   "source": [
    "c) Odebrać sygnał innej stacji."
   ]
  },
  {
   "cell_type": "markdown",
   "metadata": {},
   "source": [
    "..."
   ]
  },
  {
   "cell_type": "markdown",
   "metadata": {},
   "source": [
    "### Zad. 3. - Zmiana pasma analogowego ADALM-PLUTO"
   ]
  },
  {
   "cell_type": "markdown",
   "metadata": {},
   "source": [
    "a) Otworzyć przykład `spectrum_analysis.slx`, ustawić częstotliwość środkową na środek zakresu UKF i uruchomić symulację. Zaobserwować widmo. Porównać z widmem zapisanym SATSAGEN."
   ]
  },
  {
   "cell_type": "markdown",
   "metadata": {},
   "source": [
    "<figure>\n",
    "<img src=\"img/placeholder.png\" alt=\"adalm\" style=\"width:10%\">\n",
    "<figcaption align = \"center\"><i>Rys.X </i></figcaption>\n",
    "</figure>\n",
    "\n",
    "..."
   ]
  },
  {
   "cell_type": "markdown",
   "metadata": {},
   "source": [
    "b) Zwiększyć częstotliwość próbkowania na maksymalną (61.44 MHz). Zaobserwować zmiany w widmie."
   ]
  },
  {
   "cell_type": "markdown",
   "metadata": {},
   "source": [
    "<figure>\n",
    "<img src=\"img/placeholder.png\" alt=\"adalm\" style=\"width:10%\">\n",
    "<figcaption align = \"center\"><i>Rys.X </i></figcaption>\n",
    "</figure>\n",
    "\n",
    "..."
   ]
  },
  {
   "cell_type": "markdown",
   "metadata": {},
   "source": [
    "c) Zmienić pasmo programowalnego filtru analogowego. W IIO Oscilloscope w zakładce `AD936X` zmodyfikować parametr `RF Bandwidth (MHz)`. Zaobserwować różnice. Maksymalna do ustawienia szerokość pasma zależy od ustawionej częstotliwości próbkowania. W przypadku maksymalnej częstotliwości próbkowania: 56 MHz."
   ]
  },
  {
   "cell_type": "markdown",
   "metadata": {},
   "source": [
    "<figure>\n",
    "<img src=\"img/placeholder.png\" alt=\"adalm\" style=\"width:10%\">\n",
    "<figcaption align = \"center\"><i>Rys.X </i></figcaption>\n",
    "</figure>\n",
    "\n",
    "..."
   ]
  },
  {
   "cell_type": "markdown",
   "metadata": {},
   "source": [
    "### Literatura"
   ]
  },
  {
   "cell_type": "markdown",
   "metadata": {},
   "source": [
    "1. https://www.analog.com/en/design-center/evaluation-hardware-and-software/evaluation-boards-kits/adalm-pluto.html\n",
    "2. https://github.com/analogdevicesinc/iio-oscilloscope\n",
    "3. http://www.albfer.com/en/2020/02/21/satsagen-2/\n",
    "4. https://www.mathworks.com/products/simulink.html\n",
    "5. https://www.mathworks.com/learn/tutorials/simulink-onramp.html"
   ]
  }
 ],
 "metadata": {
  "kernelspec": {
   "display_name": "Python 3",
   "language": "python",
   "name": "python3"
  },
  "language_info": {
   "codemirror_mode": {
    "name": "ipython",
    "version": 3
   },
   "file_extension": ".py",
   "mimetype": "text/x-python",
   "name": "python",
   "nbconvert_exporter": "python",
   "pygments_lexer": "ipython3",
   "version": "3.7.1"
  }
 },
 "nbformat": 4,
 "nbformat_minor": 4
}
