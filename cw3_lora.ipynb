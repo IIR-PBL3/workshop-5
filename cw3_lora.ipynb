{
 "cells": [
  {
   "cell_type": "markdown",
   "metadata": {},
   "source": [
    "# PBL 3 - Warsztat 4 Standardy łączności bezprzewodowej\n",
    "## Ćwiczenie 3 - Transmisja w sieci LoRA\n"
   ]
  },
  {
   "cell_type": "markdown",
   "metadata": {},
   "source": [
    "Celem ćwiczenia 3 jest zapoznanie się z prostym modułem obsługującym transmisję w standardzie LoRa (LoRaWAN) - <a href=\"https://www.seeedstudio.com/LoRa-E5-mini-STM32WLE5JC-p-4869.html\">LoRa-E5 mini (STM32WLE5JC)</a>. Komunikacja z modułem odbywa się z wykorzystaniem komend AT przesyłanych za pośrednictwem intefejsu UART-USB. Po podłączeniu modułów do komputera, konieczne jest zainstalowanie dostarczonych sterowników.\n",
    "\n",
    "Do komunikacji wykorzystany zostanie <a href=\"https://github.com/LairdCP/UwTerminalX/releases/download/v1.12a/UwTerminalX_v1.12a_Windows_SSL.zip\">UwTerminalX</a>. Należy go ściągnąć oraz uruchomić. Parametry łącza są następujące:\n",
    "- Baudrate: 9600\n",
    "- Parity bits: None\n",
    "- Stop bit: 1\n",
    "- Data bits: 8\n",
    "- Handshaking: None\n",
    "- Terminal: CR LF\n",
    "\n",
    "Pracę należy rozpocząć od weryfikacji poprawności połączenia poprzez transmisję komendy \"AT\", na którą moduł powinien odpowiedzieć \"OK\".\n",
    "\n",
    "Do realizacji ćwiczenia przydatny będzie plik z wykazem komend AT oraz podpunkt 1.3 z <a href=\"https://wiki.seeedstudio.com/LoRa-E5_STM32WLE5JC_Module/\">tej strony</a>."
   ]
  },
  {
   "cell_type": "markdown",
   "metadata": {},
   "source": [
    "a) Na początku należy tak skonfigurować moduł, aby transmisja była realizowana tylko w kanale o numerze X = n modulo 3, gdzie n to numer stanowiska. Lista kanałów poniżej:\n",
    "\n",
    "| Numer | Częstotliwość [MHz] |\n",
    "| --- | --- | \n",
    "| 0 | 868.1 |\n",
    "| 1 | 868.3 |\n",
    "| 2 | 868.5 |\n",
    "\n",
    "Po skonfigurowaniu modułu, wysłać ręcznie kilka wiadomości testowych o treści: \"PBL3_W5_PCn\", gdzie n to numer stanowiska.\n",
    "\n",
    "Poprawność konfiguracji zweryfikować za pomocą aplikacji SATSAGEN i ADALM-PLUTO, z wykorzystaniem funkcji MAX-HOLD."
   ]
  },
  {
   "cell_type": "markdown",
   "metadata": {},
   "source": [
    "<figure>\n",
    "<img src=\"img/placeholder.png\" alt=\"adalm\" style=\"width:10%\">\n",
    "<figcaption align = \"center\"><i>Rys.1 XXX</i></figcaption>\n",
    "</figure>\n",
    "\n",
    "..."
   ]
  },
  {
   "cell_type": "markdown",
   "metadata": {},
   "source": [
    "b) Po wykryciu transmisji należy podłączyć układ to bramki LoRa i aplikacji o nazwie LoRA_PBL_W5. Poniżej parametry niezbędne do realizacji zadania (<a href=\"https://wiki.seeedstudio.com/LoRa-E5_STM32WLE5JC_Module/\"> a to pomocny link, szczególnie punkt 1.3</a>):\n",
    "\n",
    "| Nazwa | Wartość |\n",
    "| --- | --- |\n",
    "| MAC\t| AC:1F:09:05:1D:F8 |\n",
    "| AppName |\tLoRa_PBL3_W5 |\n",
    "| APPEUI |\te0a8da70972a57d7 |\n",
    "| APPKEY |\t63dd6176fbe7df7bbd195c304c887b71 |\n",
    "\n",
    "Po przeprowadzeniu procedury dołączenia (i weryfikacji jej poprawność - zrzut ekranu z widokiem konsoli), zgłosić się do prowadzącego."
   ]
  },
  {
   "cell_type": "markdown",
   "metadata": {},
   "source": [
    "<figure>\n",
    "<img src=\"img/placeholder.png\" alt=\"adalm\" style=\"width:10%\">\n",
    "<figcaption align = \"center\"><i>Rys.2 XXX</i></figcaption>\n",
    "</figure>\n",
    "\n",
    "..."
   ]
  },
  {
   "cell_type": "markdown",
   "metadata": {},
   "source": [
    "c) Po potwierdzeniu przez prowadzącego poprawności dołączenia do bramki, przesłać 5 komunikatów o następującej strukturze: \"PBL3_W5_PCn_m\", gdzie n to numer stanowiska, a m to liczba inkrementowana od 1 do 5."
   ]
  },
  {
   "cell_type": "markdown",
   "metadata": {},
   "source": [
    "<figure>\n",
    "<img src=\"img/placeholder.png\" alt=\"adalm\" style=\"width:10%\">\n",
    "<figcaption align = \"center\"><i>Rys.3 XXX</i></figcaption>\n",
    "</figure>\n",
    "\n",
    "..."
   ]
  }
 ],
 "metadata": {
  "kernelspec": {
   "display_name": "Python 3",
   "language": "python",
   "name": "python3"
  },
  "language_info": {
   "codemirror_mode": {
    "name": "ipython",
    "version": 3
   },
   "file_extension": ".py",
   "mimetype": "text/x-python",
   "name": "python",
   "nbconvert_exporter": "python",
   "pygments_lexer": "ipython3",
   "version": "3.8.8"
  }
 },
 "nbformat": 4,
 "nbformat_minor": 4
}
