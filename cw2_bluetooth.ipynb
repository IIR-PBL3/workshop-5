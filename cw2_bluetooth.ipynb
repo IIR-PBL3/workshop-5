{
 "cells": [
  {
   "cell_type": "markdown",
   "metadata": {},
   "source": [
    "# PBL 3 - Warsztat 5 Standardy łączności bezprzewodowej"
   ]
  },
  {
   "cell_type": "markdown",
   "metadata": {},
   "source": [
    "Zespół:\n",
    "* Name 1\n",
    "* Name 2\n",
    "* Name 3"
   ]
  },
  {
   "cell_type": "markdown",
   "metadata": {},
   "source": [
    "## Ćwiczenie 2 - Transmisja w interfejsie Bluetooth"
   ]
  },
  {
   "cell_type": "markdown",
   "metadata": {},
   "source": [
    "W ramach ćwiczenia zostanie przeprowadzona analiza sygnałów Bluetooth w dziedzinie czasu i częstotliwości. Ćwiczenie będzie wymagało wygenerowania sygnałów testowych (wysyłania pakietów Bluetooth) z wykorzystaniem RPI4. Do odbioru sygnałów zostaną wykorzystane:\n",
    "- smartfony,\n",
    "- analizatory widma,\n",
    "- układy nRF52840-DK.\n",
    "\n",
    "Wyniki zbierane z wykorzystaniem AW zostaną zapisywane na pamięciach USB.\n",
    "\n",
    "Sterowanie modułem Bluetooth zintegrowanym z RPI4 będzie się odbywało za pomocą komend domyślnie wywoływanych w terminalu - <b>hciconfig</b> oraz <b>hcitool</b> (komenda <i>cmd</i>) (uwaga: parametry transmitowane są zaczynając od LSB). Aby móc udokumentować ciągi komend realizujących poszczególne podpunkty oraz w celu ułatwienia pracy, komendy należy wywoływać wewnątrz skryptów opracowanych w języku Python - należy do tego wykorzystać moduł <i>os</i> oraz funkcję <i>os.system()</i>.\n",
    "\n",
    "W ogólności realizację każdego podpunktu należy rozpocząć od zresetowania modułu bluetooth oraz uruchomienia go - polecenia <i>reset</i> oraz <i>up</i> wywoływane przez <b>hciconfig</b>.\n",
    "\n",
    "Do realizacji ćwiczenia niezbędne będzie zainstalowanie aplikacji  <a href=\"https://play.google.com/store/apps/details?id=no.nordicsemi.android.mcp&hl=pl&gl=US\">nRF Connect for Mobile</a> (wystarczy instalacja na jednym smartfonie na zespół) oraz aplikacji <a href=\"https://www.nordicsemi.com/Products/Development-tools/nRF-Connect-for-desktop/Download#infotabs\">nRF Connect for Desktop</a>.\n",
    "\n",
    "Następujące linki mogą się okazać przydatne:\n",
    "- https://www.rfwireless-world.com/Terminology/BLE-Advertising-channels-and-Data-channels-list.html\n",
    "- https://cs.smu.ca/~porter/csc/ref/ascii.html\n",
    "- https://onlinestringtools.com/convert-string-to-ascii\n",
    "\n",
    "Kluczowe fragmenty (strony) BLE5.2 Core Specification:\n",
    "\n",
    "| Info | Początek na stronie |\n",
    "| --- | --- | \n",
    "| Error Codes | 362 |\n",
    "| Struktura AD | 1395 |\n",
    "| HCI Commands and Events | 1929 |\n",
    "| HCI LE Controller Commands | 2473 |"
   ]
  },
  {
   "cell_type": "markdown",
   "metadata": {},
   "source": [
    "a) Należy uruchomić transmisję tzw. advertów w trybie 3 (bez możliwości podłączenia). Za pomocą aplikacji <i>nRF Connect for Mobile</i> zweryfikować transmisję oraz zapisać zrzut ekranu smartfona. Następnie ograniczyć obserwację tylko do pakietów transmitowanych przez RPI4 (przez zastosowanie odpowiedniego filtra). Zapisać zrzut ekranu smartfona."
   ]
  },
  {
   "cell_type": "code",
   "execution_count": 16,
   "metadata": {},
   "outputs": [],
   "source": [
    "#-- Your code here --#\n",
    "\n",
    "#--------------------#"
   ]
  },
  {
   "cell_type": "markdown",
   "metadata": {
    "tags": []
   },
   "source": [
    "<figure>\n",
    "<img src=\"img/placeholder.png\" alt=\"adalm\" style=\"width:10%\">\n",
    "<figcaption align = \"center\"><i>Rys.1 XXX</i></figcaption>\n",
    "</figure>\n",
    "\n",
    "..."
   ]
  },
  {
   "cell_type": "markdown",
   "metadata": {},
   "source": [
    "<figure>\n",
    "<img src=\"img/placeholder.png\" alt=\"adalm\" style=\"width:10%\">\n",
    "<figcaption align = \"center\"><i>Rys.2 XXX</i></figcaption>\n",
    "</figure>\n",
    "\n",
    "..."
   ]
  },
  {
   "cell_type": "markdown",
   "metadata": {},
   "source": [
    "b) Należy dokonać modyfikacji transmitowanych advertów, tak aby zawierały następujące pola:\n",
    "- Flags:\n",
    "| Długość | Kod pola | Zawartość pola |\n",
    "| --- | --- | --- |\n",
    "| 02 | 01 | 06 |\n",
    "\n",
    "- Nazwa (Complete Local Name):\n",
    "| Długość | Kod pola | Zawartość pola |\n",
    "| --- | --- | --- |\n",
    "| 0C | 09 | xxx |\n",
    "\n",
    "W miejsce xxx należy wpisać: \"PBL3_W5_PCn\", gdzie n to numer stanowiska (wpisać w formie akceptowanej przez moduł Bluetooth).\n",
    "\n",
    "Poprawność realizacji zadania zweryfikować za pomocą aplikacji <i>nRF Connect for Mobile</i>. Zanotować okres nadawania pakietów."
   ]
  },
  {
   "cell_type": "code",
   "execution_count": 17,
   "metadata": {
    "tags": []
   },
   "outputs": [],
   "source": [
    "#-- Your code here --#\n",
    "\n",
    "#--------------------#"
   ]
  },
  {
   "cell_type": "markdown",
   "metadata": {},
   "source": [
    "<figure>\n",
    "<img src=\"img/placeholder.png\" alt=\"adalm\" style=\"width:10%\">\n",
    "<figcaption align = \"center\"><i>Rys.3 XXX</i></figcaption>\n",
    "</figure>\n",
    "\n",
    "..."
   ]
  },
  {
   "cell_type": "markdown",
   "metadata": {},
   "source": [
    "c) Należy tak zmodyfikować kod, aby adverty były transmitowane zgodnie z następującą konfiguracją:\n",
    "- okres nadawania wynoszący: 100 + 10*n, gdzie n to numer stanowiska\n",
    "- typ advertu: ADV_NONCONN_IND\n",
    "- rodzaj wysyłanego adresu: RANDOM\n",
    "- wysyłany adres P:B:K:3:5:n, gdzie n to numer stanowiska\n",
    "- nadawanie tylko w kanale o numerze <b>(n modulo 3) + 37 </b>, gdzie n to numer stanowiska\n",
    "\n",
    "Zweryfikować poprawność konfiguracji z wykorzystaniem aplikacji <i>nRF Connect for Mobile</i>."
   ]
  },
  {
   "cell_type": "code",
   "execution_count": 18,
   "metadata": {
    "tags": []
   },
   "outputs": [],
   "source": [
    "#-- Your code here --#\n",
    "\n",
    "#--------------------#"
   ]
  },
  {
   "cell_type": "markdown",
   "metadata": {},
   "source": [
    "<figure>\n",
    "<img src=\"img/placeholder.png\" alt=\"adalm\" style=\"width:10%\">\n",
    "<figcaption align = \"center\"><i>Rys.4 XXX</i></figcaption>\n",
    "</figure>\n",
    "\n",
    "..."
   ]
  },
  {
   "cell_type": "markdown",
   "metadata": {},
   "source": [
    "Kolejna cześć podpunktu c) zostanie zrealizowana dwutorowo. 3 zespoły będą realizować następne zadania z wykorzystaniem analizatora widma, a 3 zespoły w wykorzystaniem układu nRF52840DK."
   ]
  },
  {
   "cell_type": "markdown",
   "metadata": {},
   "source": [
    "c_AW_1) Należy zaobserwować całe pasmo w jakim może być realizowana transmisja bluetooth. Wykorzystać funkcję MAX_HOLD."
   ]
  },
  {
   "cell_type": "markdown",
   "metadata": {},
   "source": [
    "<figure>\n",
    "<img src=\"img/placeholder.png\" alt=\"adalm\" style=\"width:10%\">\n",
    "<figcaption align = \"center\"><i>Rys.5 XXX</i></figcaption>\n",
    "</figure>\n",
    "\n",
    "..."
   ]
  },
  {
   "cell_type": "markdown",
   "metadata": {},
   "source": [
    "c_AW_2) Należy tak ustawić parametry analizatora widma, aby obejrzeć tylko transmisję realizowaną w ramach kanału ustawionego w punkcie c). W tym celu należy odpowiednio dobrać następujące parametry:\n",
    "- fc\n",
    "- SPAN\n",
    "- Attenuation\n",
    "- Reference Level\n",
    "- RBW"
   ]
  },
  {
   "cell_type": "markdown",
   "metadata": {},
   "source": [
    "<figure>\n",
    "<img src=\"img/placeholder.png\" alt=\"adalm\" style=\"width:10%\">\n",
    "<figcaption align = \"center\"><i>Rys.6 XXX</i></figcaption>\n",
    "</figure>\n",
    "\n",
    "..."
   ]
  },
  {
   "cell_type": "markdown",
   "metadata": {},
   "source": [
    "c_AW_3) Należy przeprowadzić obserwację transmitowanych sygnałów w dziedzinie czasu. W tym celu należy poprawnie dobrać następujące parametry:\n",
    "- SPAN\n",
    "- RWB\n",
    "- Trigger -> Video\n",
    "- Video Level\n",
    "- Trigger Delay (rzędu -100 us)\n",
    "- Sweep time\n",
    "\n",
    "Za pomocą markerów zmierzyć czas trwania pakietu."
   ]
  },
  {
   "cell_type": "markdown",
   "metadata": {},
   "source": [
    "<figure>\n",
    "<img src=\"img/placeholder.png\" alt=\"adalm\" style=\"width:10%\">\n",
    "<figcaption align = \"center\"><i>Rys.7 XXX</i></figcaption>\n",
    "</figure>\n",
    "\n",
    "..."
   ]
  },
  {
   "cell_type": "markdown",
   "metadata": {
    "tags": []
   },
   "source": [
    "c_AW_4) Zmienić treść nadawanych pakietów - wyrzucić pole dotyczące \"Complete Local Name\". Ponownie dokonać obserwacji sygnału w dziedzinie czasu i zmierzyć czas trwania pakietu."
   ]
  },
  {
   "cell_type": "code",
   "execution_count": 19,
   "metadata": {
    "tags": []
   },
   "outputs": [],
   "source": [
    "#-- Your code here --#\n",
    "\n",
    "#--------------------#"
   ]
  },
  {
   "cell_type": "markdown",
   "metadata": {},
   "source": [
    "<figure>\n",
    "<img src=\"img/placeholder.png\" alt=\"adalm\" style=\"width:10%\">\n",
    "<figcaption align = \"center\"><i>Rys.8 XXX</i></figcaption>\n",
    "</figure>\n",
    "\n",
    "..."
   ]
  },
  {
   "cell_type": "markdown",
   "metadata": {
    "tags": []
   },
   "source": [
    "c_AW_5) Zmienić <i>Sweep Time</i> tak aby móc zaobserwować co najmniej dwa pakiety - za pomocą markerów zweryfikować okres nadawania."
   ]
  },
  {
   "cell_type": "markdown",
   "metadata": {},
   "source": [
    "<figure>\n",
    "<img src=\"img/placeholder.png\" alt=\"adalm\" style=\"width:10%\">\n",
    "<figcaption align = \"center\"><i>Rys.9 XXX</i></figcaption>\n",
    "</figure>\n",
    "\n",
    "..."
   ]
  },
  {
   "cell_type": "markdown",
   "metadata": {},
   "source": [
    "c_DK_1) Zainstalować i uruchomić moduł <i>Bluetooth Low Energy</i> w ramach aplikacji <i>nRF Connect for Desktop</i>. Podłączyć układ nRF52840DK do komputera i uruchomić skanowanie. Zweryfikować odbiór pakietów."
   ]
  },
  {
   "cell_type": "markdown",
   "metadata": {},
   "source": [
    "<figure>\n",
    "<img src=\"img/placeholder.png\" alt=\"adalm\" style=\"width:10%\">\n",
    "<figcaption align = \"center\"><i>Rys.9 XXX</i></figcaption>\n",
    "</figure>\n",
    "\n",
    "..."
   ]
  },
  {
   "cell_type": "markdown",
   "metadata": {
    "tags": []
   },
   "source": [
    "c_DK_2) Przeprowadzić próbę podłączenia się do RPI4 z wykorzystaniem aplikacji <i>nRF Connect for Desktop</i>. Zmienić typ transmitowanych advertów na 0 (ADV_IND). Przeproawdzic weryfikację odiboru pakietów, a następnie powtórzyć próbę podłączenia się do RPI4."
   ]
  },
  {
   "cell_type": "code",
   "execution_count": 20,
   "metadata": {
    "tags": []
   },
   "outputs": [],
   "source": [
    "#-- Your code here --#\n",
    "\n",
    "#--------------------#"
   ]
  },
  {
   "cell_type": "markdown",
   "metadata": {},
   "source": [
    "<figure>\n",
    "<img src=\"img/placeholder.png\" alt=\"adalm\" style=\"width:10%\">\n",
    "<figcaption align = \"center\"><i>Rys.10 XXX</i></figcaption>\n",
    "</figure>\n",
    "\n",
    "..."
   ]
  },
  {
   "cell_type": "markdown",
   "metadata": {},
   "source": [
    "<figure>\n",
    "<img src=\"img/placeholder.png\" alt=\"adalm\" style=\"width:10%\">\n",
    "<figcaption align = \"center\"><i>Rys.11 XXX</i></figcaption>\n",
    "</figure>\n",
    "\n",
    "..."
   ]
  },
  {
   "cell_type": "markdown",
   "metadata": {},
   "source": [
    "c_DK_3) Zmienić zawartość pakietów transmitowanych w odpowiedzi na skanowanie (SCAN_RESPONSE), tak aby było w nich nadawne pole:\n",
    "- Nazwa (Complete Local Name):\n",
    "\n",
    "| Długość | Kod pola | Zawartość pola |\n",
    "| --- | --- | --- |\n",
    "| 0C | 09 | yyy |\n",
    "\n",
    "W miejsce yyy należy wpisać: \"PBL3_W5_PCm\", gdzie m=10 + n, gdzie n to numer stanowiska (wpisać w formie akceptowanej przez moduł Bluetooth).\n",
    "\n",
    "Ponowić próbę podłączenia się do RPI4."
   ]
  },
  {
   "cell_type": "code",
   "execution_count": 21,
   "metadata": {
    "tags": []
   },
   "outputs": [],
   "source": [
    "#-- Your code here --#\n",
    "\n",
    "#--------------------#"
   ]
  },
  {
   "cell_type": "markdown",
   "metadata": {},
   "source": [
    "<figure>\n",
    "<img src=\"img/placeholder.png\" alt=\"adalm\" style=\"width:10%\">\n",
    "<figcaption align = \"center\"><i>Rys.12 XXX</i></figcaption>\n",
    "</figure>\n",
    "\n",
    "..."
   ]
  },
  {
   "cell_type": "markdown",
   "metadata": {},
   "source": [
    "c_DK_4) Z wykorzystaniem komendy <b>bluetoothctl</b> zmienić alias modułu bluetooth na PBL3_W5_PCo, gdzie o = 20 + n, gdzie n to numer stanowiska. Ponowić próbę podłączenia się do RPI4."
   ]
  },
  {
   "cell_type": "code",
   "execution_count": 22,
   "metadata": {
    "tags": []
   },
   "outputs": [],
   "source": [
    "#-- Your code here --#\n",
    "\n",
    "#--------------------#"
   ]
  },
  {
   "cell_type": "markdown",
   "metadata": {},
   "source": [
    "<figure>\n",
    "<img src=\"img/placeholder.png\" alt=\"adalm\" style=\"width:10%\">\n",
    "<figcaption align = \"center\"><i>Rys.13 XXX</i></figcaption>\n",
    "</figure>\n",
    "\n",
    "..."
   ]
  },
  {
   "cell_type": "markdown",
   "metadata": {
    "tags": []
   },
   "source": [
    "c_DK_5) Zainstalować i uruchomić moduł <i>RSSI Viewer</i> w ramach aplikacji <i>nRF Connect for Desktop</i>. Przeprowadzić obserwację transmisji pakietów we wszystkich kanałach. Następnie przeprowadzić obserwację transmisji tylko w kanale wybranym w punkcie c). Następnie tak zmodyfikować kod, aby transmisja odbywała się we wszystkich kanałach rozsiewczych (tj. 37, 38 i 39). Przeprowadzić obserwację transmisji tylko w tych kanałach, tak aby zaobserwować maksymalne wartości (tj. transmisję pochodzące od RPI4)."
   ]
  },
  {
   "cell_type": "markdown",
   "metadata": {},
   "source": [
    "<figure>\n",
    "<img src=\"img/placeholder.png\" alt=\"adalm\" style=\"width:10%\">\n",
    "<figcaption align = \"center\"><i>Rys.14 XXX</i></figcaption>\n",
    "</figure>\n",
    "\n",
    "..."
   ]
  },
  {
   "cell_type": "markdown",
   "metadata": {
    "tags": []
   },
   "source": [
    "<figure>\n",
    "<img src=\"img/placeholder.png\" alt=\"adalm\" style=\"width:10%\">\n",
    "<figcaption align = \"center\"><i>Rys.15 XXX</i></figcaption>\n",
    "</figure>\n",
    "\n",
    "..."
   ]
  },
  {
   "cell_type": "code",
   "execution_count": 23,
   "metadata": {
    "tags": []
   },
   "outputs": [],
   "source": [
    "#-- Your code here --#\n",
    "\n",
    "#--------------------#"
   ]
  },
  {
   "cell_type": "markdown",
   "metadata": {},
   "source": [
    "<figure>\n",
    "<img src=\"img/placeholder.png\" alt=\"adalm\" style=\"width:10%\">\n",
    "<figcaption align = \"center\"><i>Rys.16 XXX</i></figcaption>\n",
    "</figure>\n",
    "\n",
    "..."
   ]
  },
  {
   "cell_type": "markdown",
   "metadata": {
    "tags": []
   },
   "source": [
    "d_1) Połączyć sie w grupy 6 osobowe i opracować oprogrogramowanie umożliwiające skanowanie advertów BLE przez ok. 5 sekund. Zamieścić zrzut z konsoli. Zaobserwować transmisje pochodzące od układów o nazwie \"IONIS_XX\", gdzie \"XX\" to numer. Przydatne może okazać się polecenie <b>hcidump</b>."
   ]
  },
  {
   "cell_type": "code",
   "execution_count": 24,
   "metadata": {
    "tags": []
   },
   "outputs": [],
   "source": [
    "#-- Your code here --#\n",
    "\n",
    "#--------------------#"
   ]
  },
  {
   "cell_type": "code",
   "execution_count": 25,
   "metadata": {
    "tags": []
   },
   "outputs": [],
   "source": [
    "#-- Console dump --#\n",
    "\n",
    "#--------------------#"
   ]
  },
  {
   "cell_type": "markdown",
   "metadata": {},
   "source": [
    "d_2) Dodać oba układy \"IONIS_XX \" do tzw. White List, aby tylko one były wyświetlane w wyniku skanowania."
   ]
  },
  {
   "cell_type": "code",
   "execution_count": 26,
   "metadata": {},
   "outputs": [],
   "source": [
    "#-- Your code here --#\n",
    "\n",
    "#--------------------#"
   ]
  },
  {
   "cell_type": "code",
   "execution_count": 27,
   "metadata": {},
   "outputs": [],
   "source": [
    "#-- Console dump --#\n",
    "\n",
    "#--------------------#"
   ]
  }
 ],
 "metadata": {
  "kernelspec": {
   "display_name": "Python 3",
   "language": "python",
   "name": "python3"
  },
  "language_info": {
   "codemirror_mode": {
    "name": "ipython",
    "version": 3
   },
   "file_extension": ".py",
   "mimetype": "text/x-python",
   "name": "python",
   "nbconvert_exporter": "python",
   "pygments_lexer": "ipython3",
   "version": "3.8.8"
  }
 },
 "nbformat": 4,
 "nbformat_minor": 4
}
